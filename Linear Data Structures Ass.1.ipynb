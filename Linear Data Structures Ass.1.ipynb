{
 "cells": [
  {
   "cell_type": "code",
   "execution_count": 36,
   "id": "c613e46e",
   "metadata": {},
   "outputs": [],
   "source": [
    "def find_pairs(arr, n, sum_of_no):\n",
    "    n = len(arr)\n",
    "    sum_of_no = 10\n",
    "    pairs_count = 0\n",
    "    for i in range(0, n):\n",
    "        for j in range(i+1, n):\n",
    "            if arr[i] + arr[j] == sum_of_no:\n",
    "                pairs_count += 1\n",
    "    print(\"Pairs count = \", pairs_count)"
   ]
  },
  {
   "cell_type": "code",
   "execution_count": 37,
   "id": "416cfdfa",
   "metadata": {
    "scrolled": true
   },
   "outputs": [
    {
     "ename": "NameError",
     "evalue": "name 'sum_of_no' is not defined",
     "output_type": "error",
     "traceback": [
      "\u001b[1;31m---------------------------------------------------------------------------\u001b[0m",
      "\u001b[1;31mNameError\u001b[0m                                 Traceback (most recent call last)",
      "Input \u001b[1;32mIn [37]\u001b[0m, in \u001b[0;36m<module>\u001b[1;34m\u001b[0m\n\u001b[0;32m      1\u001b[0m arr \u001b[38;5;241m=\u001b[39m [\u001b[38;5;241m6\u001b[39m ,\u001b[38;5;241m-\u001b[39m\u001b[38;5;241m6\u001b[39m , \u001b[38;5;241m9\u001b[39m, \u001b[38;5;241m2\u001b[39m, \u001b[38;5;241m4\u001b[39m, \u001b[38;5;241m3\u001b[39m, \u001b[38;5;241m7\u001b[39m, \u001b[38;5;241m5\u001b[39m]\n\u001b[1;32m----> 2\u001b[0m find_pairs(arr, n, \u001b[43msum_of_no\u001b[49m)\n",
      "\u001b[1;31mNameError\u001b[0m: name 'sum_of_no' is not defined"
     ]
    }
   ],
   "source": [
    "arr = [6 ,-6 , 9, 2, 4, 3, 7, 5]\n",
    "find_pairs(arr, n, sum_of_no)"
   ]
  },
  {
   "cell_type": "code",
   "execution_count": null,
   "id": "303d0661",
   "metadata": {},
   "outputs": [],
   "source": []
  },
  {
   "cell_type": "markdown",
   "id": "db307959",
   "metadata": {},
   "source": [
    "Q2. Write a program to reverse an array in place? In place means you cannot create a new array. You have to update the original array."
   ]
  },
  {
   "cell_type": "code",
   "execution_count": 8,
   "id": "7cd84246",
   "metadata": {},
   "outputs": [
    {
     "name": "stdout",
     "output_type": "stream",
     "text": [
      "[4, 5, 6, 7, 8, 9]\n",
      "Reversed array is\n",
      "[9, 8, 7, 6, 5, 4]\n"
     ]
    }
   ],
   "source": [
    "arr = [4,5,6,7,8,9]\n",
    "print(arr)\n",
    "arr = arr[::-1]\n",
    "print(\"Reversed array is\")\n",
    "print(arr)"
   ]
  },
  {
   "cell_type": "code",
   "execution_count": 9,
   "id": "3324d4aa",
   "metadata": {},
   "outputs": [],
   "source": [
    "def reverse_arr(arr):\n",
    "    arr = reversed(arr)\n",
    "    return list(arr)\n",
    "arr = [4,5,6,7,8,9]"
   ]
  },
  {
   "cell_type": "code",
   "execution_count": 10,
   "id": "43febf0a",
   "metadata": {},
   "outputs": [
    {
     "data": {
      "text/plain": [
       "[9, 8, 7, 6, 5, 4]"
      ]
     },
     "execution_count": 10,
     "metadata": {},
     "output_type": "execute_result"
    }
   ],
   "source": [
    "reverse_arr(arr)"
   ]
  },
  {
   "cell_type": "code",
   "execution_count": null,
   "id": "979cf894",
   "metadata": {},
   "outputs": [],
   "source": []
  },
  {
   "cell_type": "markdown",
   "id": "8eb919bd",
   "metadata": {},
   "source": [
    "Q3. Write a program to check if two strings are a rotation of each other?"
   ]
  },
  {
   "cell_type": "code",
   "execution_count": 11,
   "id": "1f515e47",
   "metadata": {},
   "outputs": [
    {
     "name": "stdout",
     "output_type": "stream",
     "text": [
      "Strings are rotation of each other\n"
     ]
    }
   ],
   "source": [
    "def rotation_check(s1, s2):\n",
    "    if len(s1) == len(s2):\n",
    "        temp = s1 + s1\n",
    "        if temp.count(s2) > 0:\n",
    "            return 1\n",
    "    else:\n",
    "        return 0\n",
    "s1 = \"ABCD\"\n",
    "s2 = \"BCDA\"\n",
    "if rotation_check(s1, s2):\n",
    "    print(\"Strings are rotation of each other\")\n",
    "else:\n",
    "    print(\"Strings are not rotation!\")"
   ]
  },
  {
   "cell_type": "code",
   "execution_count": null,
   "id": "3c045c69",
   "metadata": {},
   "outputs": [],
   "source": []
  },
  {
   "cell_type": "markdown",
   "id": "ac96f8be",
   "metadata": {},
   "source": [
    "Q4. Write a program to print the first non-repeated character from a string?"
   ]
  },
  {
   "cell_type": "code",
   "execution_count": 13,
   "id": "44aaa9b5",
   "metadata": {},
   "outputs": [
    {
     "data": {
      "text/plain": [
       "'o'"
      ]
     },
     "execution_count": 13,
     "metadata": {},
     "output_type": "execute_result"
    }
   ],
   "source": [
    "def non_repeated(str1):\n",
    "    for i in str1:\n",
    "        count = str1.count(i)\n",
    "        if count == 1:\n",
    "            return i\n",
    "            break\n",
    "str1 = \"akolkar\"\n",
    "non_repeated(str1)   "
   ]
  },
  {
   "cell_type": "code",
   "execution_count": null,
   "id": "735d3426",
   "metadata": {},
   "outputs": [],
   "source": []
  },
  {
   "cell_type": "markdown",
   "id": "9d294ded",
   "metadata": {},
   "source": [
    "Q5. Read about the Tower of Hanoi algorithm. Write a program to implement it."
   ]
  },
  {
   "cell_type": "code",
   "execution_count": 15,
   "id": "8b795cac",
   "metadata": {},
   "outputs": [
    {
     "name": "stdout",
     "output_type": "stream",
     "text": [
      "4\n",
      "Move disk 1 from rod A to rod B\n",
      "Move disk 2 from rod A to rod C\n",
      "Move disk 1 from rod B to rod C\n",
      "Move disk 3 from rod A to rod B\n",
      "Move disk 1 from rod C to rod A\n",
      "Move disk 2 from rod C to rod B\n",
      "Move disk 1 from rod A to rod B\n",
      "Move disk 4 from rod A to rod C\n",
      "Move disk 1 from rod B to rod C\n",
      "Move disk 2 from rod B to rod A\n",
      "Move disk 1 from rod C to rod A\n",
      "Move disk 3 from rod B to rod C\n",
      "Move disk 1 from rod A to rod B\n",
      "Move disk 2 from rod A to rod C\n",
      "Move disk 1 from rod B to rod C\n"
     ]
    }
   ],
   "source": [
    "def myfunc(n, A, C, B):\n",
    "    if n == 0:\n",
    "        return\n",
    "    myfunc(n-1, A, B, C)\n",
    "    print(\"Move disk\", n, \"from rod\", A, \"to rod\", C)\n",
    "    myfunc(n-1, B, C, A)\n",
    "\n",
    "n = int(input())\n",
    "myfunc(n, 'A', 'C', 'B')"
   ]
  },
  {
   "cell_type": "code",
   "execution_count": null,
   "id": "2424a860",
   "metadata": {},
   "outputs": [],
   "source": []
  },
  {
   "cell_type": "markdown",
   "id": "9f8a54a8",
   "metadata": {},
   "source": [
    "Q6. Read about infix, prefix, and postfix expressions. Write a program to convert postfix to prefix expression."
   ]
  },
  {
   "cell_type": "code",
   "execution_count": 16,
   "id": "077ea70f",
   "metadata": {},
   "outputs": [
    {
     "name": "stdout",
     "output_type": "stream",
     "text": [
      "Prefix :  +SD-HA\n"
     ]
    }
   ],
   "source": [
    "def is_operator(n):\n",
    "    if n == \"+\":\n",
    "        return True\n",
    "    if n == \"-\":\n",
    "        return True\n",
    "    if n == \"/\":\n",
    "        return True\n",
    "    if n == \"*\":\n",
    "        return True\n",
    "    return False\n",
    "\n",
    "def post_pre(x):\n",
    "    s = []\n",
    "    length = len(x)\n",
    "    for i in range(length):\n",
    "        if (is_operator(x[i])):\n",
    "            op1 = s[-1]\n",
    "            s.pop()\n",
    "            op2 = s[-1]\n",
    "            s.pop()\n",
    "            temp = x[i] + op2 + op1\n",
    "            s.append(temp)\n",
    "        else:\n",
    "             s.append(x[i])\n",
    "    ans = \"\"\n",
    "    for i in s:\n",
    "        ans += i\n",
    "    return ans\n",
    "\n",
    "x = \"SD+HA-\"\n",
    "print(\"Prefix : \", post_pre(x))"
   ]
  },
  {
   "cell_type": "code",
   "execution_count": null,
   "id": "da3eaa8e",
   "metadata": {},
   "outputs": [],
   "source": []
  },
  {
   "cell_type": "markdown",
   "id": "9c11aabb",
   "metadata": {},
   "source": [
    "Q7. Write a program to convert prefix expression to infix expression."
   ]
  },
  {
   "cell_type": "code",
   "execution_count": 17,
   "id": "370cbc99",
   "metadata": {},
   "outputs": [
    {
     "name": "stdout",
     "output_type": "stream",
     "text": [
      "((A-(B/C))*((S/D)-A))\n"
     ]
    }
   ],
   "source": [
    "def prefixToInfix(prefix):\n",
    "    stack = []\n",
    "    i = len(prefix) - 1\n",
    "    while i >= 0:\n",
    "        if not isOperator(prefix[i]):\n",
    "\n",
    "            stack.append(prefix[i])\n",
    "            i -= 1\n",
    "        else:\n",
    "            str = \"(\" + stack.pop() + prefix[i] + stack.pop() + \")\"\n",
    "            stack.append(str)\n",
    "            i -= 1\n",
    "    return stack.pop()\n",
    "\n",
    "def isOperator(c):\n",
    "    if c == \"*\" or c == \"+\" or c == \"-\" or c == \"/\" or c == \"^\" or c == \"(\" or c == \")\":\n",
    "        return True\n",
    "    else:\n",
    "        return False\n",
    "\n",
    "str = \"*-A/BC-/SDA\"\n",
    "print(prefixToInfix(str))"
   ]
  },
  {
   "cell_type": "code",
   "execution_count": null,
   "id": "9fa8e6a5",
   "metadata": {},
   "outputs": [],
   "source": []
  },
  {
   "cell_type": "markdown",
   "id": "ebdd5873",
   "metadata": {},
   "source": [
    "Q8. Write a program to check if all the brackets are closed in a given code snippet."
   ]
  },
  {
   "cell_type": "code",
   "execution_count": 19,
   "id": "2d8c326a",
   "metadata": {},
   "outputs": [
    {
     "name": "stdout",
     "output_type": "stream",
     "text": [
      "No\n"
     ]
    }
   ],
   "source": [
    "def brackets_check(x):\n",
    "    var = []\n",
    " \n",
    "    for i in x:\n",
    "        if i in [\"(\", \"{\", \"[\"]:\n",
    "            var.append(i)\n",
    "            \n",
    "        else:\n",
    "            if not var:\n",
    "                return False\n",
    "            temp_char = var.pop()\n",
    "            if temp_char == '(':\n",
    "                if i != \")\":\n",
    "                    return False\n",
    "            if temp_char == '{':\n",
    "                if i != \"}\":\n",
    "                    return False\n",
    "            if temp_char == '[':\n",
    "                if i != \"]\":\n",
    "                    return False\n",
    " \n",
    "    if var:\n",
    "        return False\n",
    "    return True\n",
    "\n",
    "x = \"{()}[(]\"\n",
    "    \n",
    "if brackets_check(x):\n",
    "    print(\"YES\")\n",
    "else:\n",
    "    print(\"No\")"
   ]
  },
  {
   "cell_type": "code",
   "execution_count": null,
   "id": "431ab351",
   "metadata": {},
   "outputs": [],
   "source": []
  },
  {
   "cell_type": "markdown",
   "id": "82034da5",
   "metadata": {},
   "source": [
    "Q9. Write a program to reverse a stack."
   ]
  },
  {
   "cell_type": "code",
   "execution_count": 20,
   "id": "421a08be",
   "metadata": {},
   "outputs": [
    {
     "name": "stdout",
     "output_type": "stream",
     "text": [
      "Original Stack\n",
      "11\n",
      "12\n",
      "13\n",
      "14\n",
      "15\n",
      "Reversed Stack\n",
      "15\n",
      "14\n",
      "13\n",
      "12\n",
      "11\n"
     ]
    }
   ],
   "source": [
    "def reverse_stack(stack):\n",
    "    stack = reversed(stack)\n",
    "    return list(stack)\n",
    "stack = [11,12,13,14,15]\n",
    "\n",
    "print(\"Original Stack\", *stack, sep='\\n')\n",
    "print(\"Reversed Stack\", *reverse_stack(stack), sep='\\n')"
   ]
  },
  {
   "cell_type": "code",
   "execution_count": null,
   "id": "6e99cebb",
   "metadata": {},
   "outputs": [],
   "source": []
  },
  {
   "cell_type": "markdown",
   "id": "e082c174",
   "metadata": {},
   "source": [
    "Q10. Write a program to find the smallest number using a stack."
   ]
  },
  {
   "cell_type": "code",
   "execution_count": 21,
   "id": "4cea3d35",
   "metadata": {},
   "outputs": [
    {
     "data": {
      "text/plain": [
       "-7"
      ]
     },
     "execution_count": 21,
     "metadata": {},
     "output_type": "execute_result"
    }
   ],
   "source": [
    "def min_value(stack):\n",
    "    x=sorted(stack)\n",
    "    return x[0]\n",
    "    \n",
    "stack=[4,5,6,-7,8,9]    \n",
    "min_value(stack) "
   ]
  },
  {
   "cell_type": "code",
   "execution_count": 22,
   "id": "6ae9fdbf",
   "metadata": {},
   "outputs": [
    {
     "data": {
      "text/plain": [
       "22"
      ]
     },
     "execution_count": 22,
     "metadata": {},
     "output_type": "execute_result"
    }
   ],
   "source": [
    "stack1 = [22, 59, 66, 73, 95, 26]\n",
    "min(*stack1)"
   ]
  }
 ],
 "metadata": {
  "kernelspec": {
   "display_name": "Python 3 (ipykernel)",
   "language": "python",
   "name": "python3"
  },
  "language_info": {
   "codemirror_mode": {
    "name": "ipython",
    "version": 3
   },
   "file_extension": ".py",
   "mimetype": "text/x-python",
   "name": "python",
   "nbconvert_exporter": "python",
   "pygments_lexer": "ipython3",
   "version": "3.10.1"
  }
 },
 "nbformat": 4,
 "nbformat_minor": 5
}
